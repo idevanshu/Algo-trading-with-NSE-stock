{
 "cells": [
  {
   "cell_type": "code",
   "execution_count": 1,
   "id": "fc1207c8",
   "metadata": {},
   "outputs": [],
   "source": [
    "import pandas as pd\n",
    "import numpy as np\n",
    "import xlsxwriter\n",
    "import math\n",
    "from nsetools import Nse"
   ]
  },
  {
   "cell_type": "code",
   "execution_count": 2,
   "id": "0d0a88d4",
   "metadata": {
    "scrolled": true
   },
   "outputs": [],
   "source": [
    "nse = Nse()\n",
    "stocks = nse.get_stock_codes()"
   ]
  },
  {
   "cell_type": "markdown",
   "id": "6f4c8c44",
   "metadata": {},
   "source": []
  },
  {
   "cell_type": "code",
   "execution_count": 3,
   "id": "fecb241e",
   "metadata": {},
   "outputs": [],
   "source": [
    "my_columns = ['Name','Previous_Closing_Price','Opening_Price','Closing_Price','Day_High_Price','Day_low_Price','Average_Price','Current_Price','Shares_To_Buy']\n",
    "final_dataframe = pd.DataFrame(columns = my_columns)"
   ]
  },
  {
   "cell_type": "code",
   "execution_count": 4,
   "id": "28c3fdc5",
   "metadata": {},
   "outputs": [],
   "source": [
    "names = []\n",
    "top_50 = nse.get_preopen_nifty()\n",
    "for i in range(len(top_50)):\n",
    "    names.append(top_50[i]['symbol'])"
   ]
  },
  {
   "cell_type": "code",
   "execution_count": 5,
   "id": "f515163f",
   "metadata": {
    "scrolled": false
   },
   "outputs": [],
   "source": [
    "for stock in names:\n",
    "        Data = nse.get_quote(stock)\n",
    "        final_dataframe = final_dataframe.append(\n",
    "        pd.Series(\n",
    "        [\n",
    "            Data['symbol'],\n",
    "            Data['previousClose'],\n",
    "            Data['open'],\n",
    "            Data['closePrice'],\n",
    "            Data['dayHigh'],\n",
    "            Data['dayLow'],\n",
    "            Data['averagePrice'],\n",
    "            Data['lastPrice'],\n",
    "            'N/A',\n",
    "\n",
    "        ],\n",
    "            index = my_columns\n",
    "        ),\n",
    "            ignore_index = True\n",
    "        )\n"
   ]
  },
  {
   "cell_type": "code",
   "execution_count": 6,
   "id": "0668d26c",
   "metadata": {},
   "outputs": [],
   "source": [
    "#Calculating the Number of shares to buy\n",
    "amount = input(\"Enter the amount you want to spend: \")\n",
    "\n",
    "#Making sure the value is integer.\n",
    "try:\n",
    "    val = float(amount)\n",
    "except ValueError:\n",
    "    print(\"That's not a number!\\n Please try again: \")\n",
    "    amount = input(\"Enter the amount: \")\n",
    "    val = float(amount)\n",
    "\n",
    "#To invest\n",
    "Size = val/len(final_dataframe.index)\n",
    "for i in range(0,len(final_dataframe.index)):\n",
    "    final_dataframe.loc[i, 'Shares_To_Buy'] = math.floor(Size/final_dataframe.loc[i, 'Current_Price'])\n",
    "\n"
   ]
  },
  {
   "cell_type": "code",
   "execution_count": 7,
   "id": "96db9bbd",
   "metadata": {},
   "outputs": [],
   "source": [
    "writer = pd.ExcelWriter('Recommanded stocks.xlsx',engine='xlsxwriter')\n",
    "final_dataframe.to_excel(writer,'Recommended stocks', index=False)"
   ]
  },
  {
   "cell_type": "code",
   "execution_count": 8,
   "id": "4808b8bd",
   "metadata": {},
   "outputs": [],
   "source": [
    "background_color = '#FFFFFF'\n",
    "font_color ='#000000'\n",
    "\n",
    "string_format = writer.book.add_format(\n",
    "    {\n",
    "    'font_color':font_color,\n",
    "    'bg_color':background_color,\n",
    "    'border': 1\n",
    "    }\n",
    ")\n",
    "\n",
    "Rupee_format = writer.book.add_format(\n",
    "    {\n",
    "    'num_format':'0',\n",
    "    'font_color':font_color,\n",
    "    'bg_color':background_color,\n",
    "    'border': 4\n",
    "    }\n",
    ")\n"
   ]
  },
  {
   "cell_type": "code",
   "execution_count": 9,
   "id": "1a326c3c",
   "metadata": {},
   "outputs": [],
   "source": [
    "column__formats ={\n",
    "    'A':['Name', string_format],\n",
    "    'B':['Previous_Closing_Price',Rupee_format],\n",
    "    'C':['Opening_Price',Rupee_format],\n",
    "    'D':['Closing_Price',Rupee_format],\n",
    "    'E':['Day_High_Price',Rupee_format],\n",
    "    'F':['Day_low_Price',Rupee_format],\n",
    "    'G':['Average_Price',Rupee_format],\n",
    "    'H':['Current_Price',Rupee_format],\n",
    "    'I':['Shares_To_Buy',Rupee_format]\n",
    "}\n",
    "for c in column__formats.keys():\n",
    "    writer.sheets['Recommended stocks'].set_column(f\"{c}:{c}\", 18, column__formats[c][1])\n",
    "    writer.sheets['Recommended stocks'].write(f'{c}1',column__formats[c][0],column__formats[c][1])"
   ]
  },
  {
   "cell_type": "code",
   "execution_count": 10,
   "id": "3ddad4e2",
   "metadata": {},
   "outputs": [],
   "source": [
    "writer.save()"
   ]
  }
 ],
 "metadata": {
  "kernelspec": {
   "display_name": "Python 3 (ipykernel)",
   "language": "python",
   "name": "python3"
  },
  "language_info": {
   "codemirror_mode": {
    "name": "ipython",
    "version": 3
   },
   "file_extension": ".py",
   "mimetype": "text/x-python",
   "name": "python",
   "nbconvert_exporter": "python",
   "pygments_lexer": "ipython3",
   "version": "3.7.5"
  },
  "vscode": {
   "interpreter": {
    "hash": "a23257344542c70b70a498512f46db94a3a7f44d371a6893c689768adca66338"
   }
  }
 },
 "nbformat": 4,
 "nbformat_minor": 5
}
